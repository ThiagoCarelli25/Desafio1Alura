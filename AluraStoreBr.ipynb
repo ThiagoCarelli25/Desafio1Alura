{
  "nbformat": 4,
  "nbformat_minor": 0,
  "metadata": {
    "colab": {
      "provenance": []
    },
    "kernelspec": {
      "name": "python3",
      "display_name": "Python 3"
    },
    "language_info": {
      "name": "python"
    }
  },
  "cells": [
    {
      "cell_type": "markdown",
      "source": [
        "### Importação dos dados\n",
        "\n"
      ],
      "metadata": {
        "id": "RhEdWd9YUR6H"
      }
    },
    {
      "cell_type": "code",
      "execution_count": 82,
      "metadata": {
        "colab": {
          "base_uri": "https://localhost:8080/",
          "height": 206
        },
        "id": "T3EvaeQ_INIL",
        "outputId": "1ba36a5f-4f28-4087-b09b-ace85e9a8ef1"
      },
      "outputs": [
        {
          "output_type": "execute_result",
          "data": {
            "text/plain": [
              "               Produto Categoria do Produto    Preço      Frete  \\\n",
              "0          Lava louças     eletrodomesticos  1446.46  74.604083   \n",
              "1             Cama box               moveis   631.70  33.919251   \n",
              "2     Bola de basquete      esporte e lazer    31.54   0.000000   \n",
              "3  Modelagem preditiva               livros    76.93   1.680730   \n",
              "4       Fone de ouvido          eletronicos   185.14   7.442587   \n",
              "\n",
              "  Data da Compra        Vendedor Local da compra  Avaliação da compra  \\\n",
              "0     11/11/2022    Rafael Costa              SP                    4   \n",
              "1     03/01/2020    Thiago Silva              GO                    5   \n",
              "2     25/12/2022   Larissa Alves              MG                    5   \n",
              "3     23/11/2021  Lucas Oliveira              MG                    3   \n",
              "4     25/04/2022   Bianca Santos              SP                    4   \n",
              "\n",
              "  Tipo de pagamento  Quantidade de parcelas    lat    lon  \n",
              "0    cartao_credito                       3 -22.19 -48.79  \n",
              "1    cartao_credito                       2 -15.98 -49.86  \n",
              "2            boleto                       1 -18.10 -44.38  \n",
              "3            boleto                       1 -18.10 -44.38  \n",
              "4    cartao_credito                       7 -22.19 -48.79  "
            ],
            "text/html": [
              "\n",
              "  <div id=\"df-02aca37d-cf99-4373-9306-ab979b02cd04\" class=\"colab-df-container\">\n",
              "    <div>\n",
              "<style scoped>\n",
              "    .dataframe tbody tr th:only-of-type {\n",
              "        vertical-align: middle;\n",
              "    }\n",
              "\n",
              "    .dataframe tbody tr th {\n",
              "        vertical-align: top;\n",
              "    }\n",
              "\n",
              "    .dataframe thead th {\n",
              "        text-align: right;\n",
              "    }\n",
              "</style>\n",
              "<table border=\"1\" class=\"dataframe\">\n",
              "  <thead>\n",
              "    <tr style=\"text-align: right;\">\n",
              "      <th></th>\n",
              "      <th>Produto</th>\n",
              "      <th>Categoria do Produto</th>\n",
              "      <th>Preço</th>\n",
              "      <th>Frete</th>\n",
              "      <th>Data da Compra</th>\n",
              "      <th>Vendedor</th>\n",
              "      <th>Local da compra</th>\n",
              "      <th>Avaliação da compra</th>\n",
              "      <th>Tipo de pagamento</th>\n",
              "      <th>Quantidade de parcelas</th>\n",
              "      <th>lat</th>\n",
              "      <th>lon</th>\n",
              "    </tr>\n",
              "  </thead>\n",
              "  <tbody>\n",
              "    <tr>\n",
              "      <th>0</th>\n",
              "      <td>Lava louças</td>\n",
              "      <td>eletrodomesticos</td>\n",
              "      <td>1446.46</td>\n",
              "      <td>74.604083</td>\n",
              "      <td>11/11/2022</td>\n",
              "      <td>Rafael Costa</td>\n",
              "      <td>SP</td>\n",
              "      <td>4</td>\n",
              "      <td>cartao_credito</td>\n",
              "      <td>3</td>\n",
              "      <td>-22.19</td>\n",
              "      <td>-48.79</td>\n",
              "    </tr>\n",
              "    <tr>\n",
              "      <th>1</th>\n",
              "      <td>Cama box</td>\n",
              "      <td>moveis</td>\n",
              "      <td>631.70</td>\n",
              "      <td>33.919251</td>\n",
              "      <td>03/01/2020</td>\n",
              "      <td>Thiago Silva</td>\n",
              "      <td>GO</td>\n",
              "      <td>5</td>\n",
              "      <td>cartao_credito</td>\n",
              "      <td>2</td>\n",
              "      <td>-15.98</td>\n",
              "      <td>-49.86</td>\n",
              "    </tr>\n",
              "    <tr>\n",
              "      <th>2</th>\n",
              "      <td>Bola de basquete</td>\n",
              "      <td>esporte e lazer</td>\n",
              "      <td>31.54</td>\n",
              "      <td>0.000000</td>\n",
              "      <td>25/12/2022</td>\n",
              "      <td>Larissa Alves</td>\n",
              "      <td>MG</td>\n",
              "      <td>5</td>\n",
              "      <td>boleto</td>\n",
              "      <td>1</td>\n",
              "      <td>-18.10</td>\n",
              "      <td>-44.38</td>\n",
              "    </tr>\n",
              "    <tr>\n",
              "      <th>3</th>\n",
              "      <td>Modelagem preditiva</td>\n",
              "      <td>livros</td>\n",
              "      <td>76.93</td>\n",
              "      <td>1.680730</td>\n",
              "      <td>23/11/2021</td>\n",
              "      <td>Lucas Oliveira</td>\n",
              "      <td>MG</td>\n",
              "      <td>3</td>\n",
              "      <td>boleto</td>\n",
              "      <td>1</td>\n",
              "      <td>-18.10</td>\n",
              "      <td>-44.38</td>\n",
              "    </tr>\n",
              "    <tr>\n",
              "      <th>4</th>\n",
              "      <td>Fone de ouvido</td>\n",
              "      <td>eletronicos</td>\n",
              "      <td>185.14</td>\n",
              "      <td>7.442587</td>\n",
              "      <td>25/04/2022</td>\n",
              "      <td>Bianca Santos</td>\n",
              "      <td>SP</td>\n",
              "      <td>4</td>\n",
              "      <td>cartao_credito</td>\n",
              "      <td>7</td>\n",
              "      <td>-22.19</td>\n",
              "      <td>-48.79</td>\n",
              "    </tr>\n",
              "  </tbody>\n",
              "</table>\n",
              "</div>\n",
              "    <div class=\"colab-df-buttons\">\n",
              "\n",
              "  <div class=\"colab-df-container\">\n",
              "    <button class=\"colab-df-convert\" onclick=\"convertToInteractive('df-02aca37d-cf99-4373-9306-ab979b02cd04')\"\n",
              "            title=\"Convert this dataframe to an interactive table.\"\n",
              "            style=\"display:none;\">\n",
              "\n",
              "  <svg xmlns=\"http://www.w3.org/2000/svg\" height=\"24px\" viewBox=\"0 -960 960 960\">\n",
              "    <path d=\"M120-120v-720h720v720H120Zm60-500h600v-160H180v160Zm220 220h160v-160H400v160Zm0 220h160v-160H400v160ZM180-400h160v-160H180v160Zm440 0h160v-160H620v160ZM180-180h160v-160H180v160Zm440 0h160v-160H620v160Z\"/>\n",
              "  </svg>\n",
              "    </button>\n",
              "\n",
              "  <style>\n",
              "    .colab-df-container {\n",
              "      display:flex;\n",
              "      gap: 12px;\n",
              "    }\n",
              "\n",
              "    .colab-df-convert {\n",
              "      background-color: #E8F0FE;\n",
              "      border: none;\n",
              "      border-radius: 50%;\n",
              "      cursor: pointer;\n",
              "      display: none;\n",
              "      fill: #1967D2;\n",
              "      height: 32px;\n",
              "      padding: 0 0 0 0;\n",
              "      width: 32px;\n",
              "    }\n",
              "\n",
              "    .colab-df-convert:hover {\n",
              "      background-color: #E2EBFA;\n",
              "      box-shadow: 0px 1px 2px rgba(60, 64, 67, 0.3), 0px 1px 3px 1px rgba(60, 64, 67, 0.15);\n",
              "      fill: #174EA6;\n",
              "    }\n",
              "\n",
              "    .colab-df-buttons div {\n",
              "      margin-bottom: 4px;\n",
              "    }\n",
              "\n",
              "    [theme=dark] .colab-df-convert {\n",
              "      background-color: #3B4455;\n",
              "      fill: #D2E3FC;\n",
              "    }\n",
              "\n",
              "    [theme=dark] .colab-df-convert:hover {\n",
              "      background-color: #434B5C;\n",
              "      box-shadow: 0px 1px 3px 1px rgba(0, 0, 0, 0.15);\n",
              "      filter: drop-shadow(0px 1px 2px rgba(0, 0, 0, 0.3));\n",
              "      fill: #FFFFFF;\n",
              "    }\n",
              "  </style>\n",
              "\n",
              "    <script>\n",
              "      const buttonEl =\n",
              "        document.querySelector('#df-02aca37d-cf99-4373-9306-ab979b02cd04 button.colab-df-convert');\n",
              "      buttonEl.style.display =\n",
              "        google.colab.kernel.accessAllowed ? 'block' : 'none';\n",
              "\n",
              "      async function convertToInteractive(key) {\n",
              "        const element = document.querySelector('#df-02aca37d-cf99-4373-9306-ab979b02cd04');\n",
              "        const dataTable =\n",
              "          await google.colab.kernel.invokeFunction('convertToInteractive',\n",
              "                                                    [key], {});\n",
              "        if (!dataTable) return;\n",
              "\n",
              "        const docLinkHtml = 'Like what you see? Visit the ' +\n",
              "          '<a target=\"_blank\" href=https://colab.research.google.com/notebooks/data_table.ipynb>data table notebook</a>'\n",
              "          + ' to learn more about interactive tables.';\n",
              "        element.innerHTML = '';\n",
              "        dataTable['output_type'] = 'display_data';\n",
              "        await google.colab.output.renderOutput(dataTable, element);\n",
              "        const docLink = document.createElement('div');\n",
              "        docLink.innerHTML = docLinkHtml;\n",
              "        element.appendChild(docLink);\n",
              "      }\n",
              "    </script>\n",
              "  </div>\n",
              "\n",
              "\n",
              "    <div id=\"df-e1b20706-4010-4ebc-a7d0-1952f32c61c4\">\n",
              "      <button class=\"colab-df-quickchart\" onclick=\"quickchart('df-e1b20706-4010-4ebc-a7d0-1952f32c61c4')\"\n",
              "                title=\"Suggest charts\"\n",
              "                style=\"display:none;\">\n",
              "\n",
              "<svg xmlns=\"http://www.w3.org/2000/svg\" height=\"24px\"viewBox=\"0 0 24 24\"\n",
              "     width=\"24px\">\n",
              "    <g>\n",
              "        <path d=\"M19 3H5c-1.1 0-2 .9-2 2v14c0 1.1.9 2 2 2h14c1.1 0 2-.9 2-2V5c0-1.1-.9-2-2-2zM9 17H7v-7h2v7zm4 0h-2V7h2v10zm4 0h-2v-4h2v4z\"/>\n",
              "    </g>\n",
              "</svg>\n",
              "      </button>\n",
              "\n",
              "<style>\n",
              "  .colab-df-quickchart {\n",
              "      --bg-color: #E8F0FE;\n",
              "      --fill-color: #1967D2;\n",
              "      --hover-bg-color: #E2EBFA;\n",
              "      --hover-fill-color: #174EA6;\n",
              "      --disabled-fill-color: #AAA;\n",
              "      --disabled-bg-color: #DDD;\n",
              "  }\n",
              "\n",
              "  [theme=dark] .colab-df-quickchart {\n",
              "      --bg-color: #3B4455;\n",
              "      --fill-color: #D2E3FC;\n",
              "      --hover-bg-color: #434B5C;\n",
              "      --hover-fill-color: #FFFFFF;\n",
              "      --disabled-bg-color: #3B4455;\n",
              "      --disabled-fill-color: #666;\n",
              "  }\n",
              "\n",
              "  .colab-df-quickchart {\n",
              "    background-color: var(--bg-color);\n",
              "    border: none;\n",
              "    border-radius: 50%;\n",
              "    cursor: pointer;\n",
              "    display: none;\n",
              "    fill: var(--fill-color);\n",
              "    height: 32px;\n",
              "    padding: 0;\n",
              "    width: 32px;\n",
              "  }\n",
              "\n",
              "  .colab-df-quickchart:hover {\n",
              "    background-color: var(--hover-bg-color);\n",
              "    box-shadow: 0 1px 2px rgba(60, 64, 67, 0.3), 0 1px 3px 1px rgba(60, 64, 67, 0.15);\n",
              "    fill: var(--button-hover-fill-color);\n",
              "  }\n",
              "\n",
              "  .colab-df-quickchart-complete:disabled,\n",
              "  .colab-df-quickchart-complete:disabled:hover {\n",
              "    background-color: var(--disabled-bg-color);\n",
              "    fill: var(--disabled-fill-color);\n",
              "    box-shadow: none;\n",
              "  }\n",
              "\n",
              "  .colab-df-spinner {\n",
              "    border: 2px solid var(--fill-color);\n",
              "    border-color: transparent;\n",
              "    border-bottom-color: var(--fill-color);\n",
              "    animation:\n",
              "      spin 1s steps(1) infinite;\n",
              "  }\n",
              "\n",
              "  @keyframes spin {\n",
              "    0% {\n",
              "      border-color: transparent;\n",
              "      border-bottom-color: var(--fill-color);\n",
              "      border-left-color: var(--fill-color);\n",
              "    }\n",
              "    20% {\n",
              "      border-color: transparent;\n",
              "      border-left-color: var(--fill-color);\n",
              "      border-top-color: var(--fill-color);\n",
              "    }\n",
              "    30% {\n",
              "      border-color: transparent;\n",
              "      border-left-color: var(--fill-color);\n",
              "      border-top-color: var(--fill-color);\n",
              "      border-right-color: var(--fill-color);\n",
              "    }\n",
              "    40% {\n",
              "      border-color: transparent;\n",
              "      border-right-color: var(--fill-color);\n",
              "      border-top-color: var(--fill-color);\n",
              "    }\n",
              "    60% {\n",
              "      border-color: transparent;\n",
              "      border-right-color: var(--fill-color);\n",
              "    }\n",
              "    80% {\n",
              "      border-color: transparent;\n",
              "      border-right-color: var(--fill-color);\n",
              "      border-bottom-color: var(--fill-color);\n",
              "    }\n",
              "    90% {\n",
              "      border-color: transparent;\n",
              "      border-bottom-color: var(--fill-color);\n",
              "    }\n",
              "  }\n",
              "</style>\n",
              "\n",
              "      <script>\n",
              "        async function quickchart(key) {\n",
              "          const quickchartButtonEl =\n",
              "            document.querySelector('#' + key + ' button');\n",
              "          quickchartButtonEl.disabled = true;  // To prevent multiple clicks.\n",
              "          quickchartButtonEl.classList.add('colab-df-spinner');\n",
              "          try {\n",
              "            const charts = await google.colab.kernel.invokeFunction(\n",
              "                'suggestCharts', [key], {});\n",
              "          } catch (error) {\n",
              "            console.error('Error during call to suggestCharts:', error);\n",
              "          }\n",
              "          quickchartButtonEl.classList.remove('colab-df-spinner');\n",
              "          quickchartButtonEl.classList.add('colab-df-quickchart-complete');\n",
              "        }\n",
              "        (() => {\n",
              "          let quickchartButtonEl =\n",
              "            document.querySelector('#df-e1b20706-4010-4ebc-a7d0-1952f32c61c4 button');\n",
              "          quickchartButtonEl.style.display =\n",
              "            google.colab.kernel.accessAllowed ? 'block' : 'none';\n",
              "        })();\n",
              "      </script>\n",
              "    </div>\n",
              "\n",
              "    </div>\n",
              "  </div>\n"
            ],
            "application/vnd.google.colaboratory.intrinsic+json": {
              "type": "dataframe",
              "variable_name": "loja4",
              "summary": "{\n  \"name\": \"loja4\",\n  \"rows\": 2358,\n  \"fields\": [\n    {\n      \"column\": \"Produto\",\n      \"properties\": {\n        \"dtype\": \"category\",\n        \"num_unique_values\": 51,\n        \"samples\": [\n          \"Micro-ondas\",\n          \"Jogo de panelas\",\n          \"Lavadora de roupas\"\n        ],\n        \"semantic_type\": \"\",\n        \"description\": \"\"\n      }\n    },\n    {\n      \"column\": \"Categoria do Produto\",\n      \"properties\": {\n        \"dtype\": \"category\",\n        \"num_unique_values\": 8,\n        \"samples\": [\n          \"moveis\",\n          \"instrumentos musicais\",\n          \"eletrodomesticos\"\n        ],\n        \"semantic_type\": \"\",\n        \"description\": \"\"\n      }\n    },\n    {\n      \"column\": \"Pre\\u00e7o\",\n      \"properties\": {\n        \"dtype\": \"number\",\n        \"std\": 758.3412903699577,\n        \"min\": 10.17,\n        \"max\": 3869.56,\n        \"num_unique_values\": 2308,\n        \"samples\": [\n          1253.94,\n          24.64,\n          55.14\n        ],\n        \"semantic_type\": \"\",\n        \"description\": \"\"\n      }\n    },\n    {\n      \"column\": \"Frete\",\n      \"properties\": {\n        \"dtype\": \"number\",\n        \"std\": 40.373136407711065,\n        \"min\": 0.0,\n        \"max\": 206.3255547101,\n        \"num_unique_values\": 2157,\n        \"samples\": [\n          40.6367616517,\n          56.4729494223,\n          36.2193142715\n        ],\n        \"semantic_type\": \"\",\n        \"description\": \"\"\n      }\n    },\n    {\n      \"column\": \"Data da Compra\",\n      \"properties\": {\n        \"dtype\": \"category\",\n        \"num_unique_values\": 1030,\n        \"samples\": [\n          \"12/06/2022\",\n          \"18/04/2021\",\n          \"24/12/2020\"\n        ],\n        \"semantic_type\": \"\",\n        \"description\": \"\"\n      }\n    },\n    {\n      \"column\": \"Vendedor\",\n      \"properties\": {\n        \"dtype\": \"category\",\n        \"num_unique_values\": 14,\n        \"samples\": [\n          \"Pedro Gomes\",\n          \"Mariana Ferreira\",\n          \"Rafael Costa\"\n        ],\n        \"semantic_type\": \"\",\n        \"description\": \"\"\n      }\n    },\n    {\n      \"column\": \"Local da compra\",\n      \"properties\": {\n        \"dtype\": \"category\",\n        \"num_unique_values\": 25,\n        \"samples\": [\n          \"PR\",\n          \"PB\",\n          \"SP\"\n        ],\n        \"semantic_type\": \"\",\n        \"description\": \"\"\n      }\n    },\n    {\n      \"column\": \"Avalia\\u00e7\\u00e3o da compra\",\n      \"properties\": {\n        \"dtype\": \"number\",\n        \"std\": 1,\n        \"min\": 1,\n        \"max\": 5,\n        \"num_unique_values\": 5,\n        \"samples\": [\n          5,\n          2,\n          3\n        ],\n        \"semantic_type\": \"\",\n        \"description\": \"\"\n      }\n    },\n    {\n      \"column\": \"Tipo de pagamento\",\n      \"properties\": {\n        \"dtype\": \"category\",\n        \"num_unique_values\": 4,\n        \"samples\": [\n          \"boleto\",\n          \"cartao_debito\",\n          \"cartao_credito\"\n        ],\n        \"semantic_type\": \"\",\n        \"description\": \"\"\n      }\n    },\n    {\n      \"column\": \"Quantidade de parcelas\",\n      \"properties\": {\n        \"dtype\": \"number\",\n        \"std\": 2,\n        \"min\": 1,\n        \"max\": 18,\n        \"num_unique_values\": 13,\n        \"samples\": [\n          18,\n          9,\n          3\n        ],\n        \"semantic_type\": \"\",\n        \"description\": \"\"\n      }\n    },\n    {\n      \"column\": \"lat\",\n      \"properties\": {\n        \"dtype\": \"number\",\n        \"std\": 5.433033498008136,\n        \"min\": -30.17,\n        \"max\": 1.41,\n        \"num_unique_values\": 25,\n        \"samples\": [\n          -24.89,\n          -7.28,\n          -22.19\n        ],\n        \"semantic_type\": \"\",\n        \"description\": \"\"\n      }\n    },\n    {\n      \"column\": \"lon\",\n      \"properties\": {\n        \"dtype\": \"number\",\n        \"std\": 4.159155731945776,\n        \"min\": -65.1,\n        \"max\": -36.59,\n        \"num_unique_values\": 25,\n        \"samples\": [\n          -51.55,\n          -36.72,\n          -48.79\n        ],\n        \"semantic_type\": \"\",\n        \"description\": \"\"\n      }\n    }\n  ]\n}"
            }
          },
          "metadata": {},
          "execution_count": 82
        }
      ],
      "source": [
        "import pandas as pd\n",
        "\n",
        "url = \"https://raw.githubusercontent.com/alura-es-cursos/challenge1-data-science/refs/heads/main/base-de-dados-challenge-1/loja_1.csv\"\n",
        "url2 = \"https://raw.githubusercontent.com/alura-es-cursos/challenge1-data-science/refs/heads/main/base-de-dados-challenge-1/loja_2.csv\"\n",
        "url3 = \"https://raw.githubusercontent.com/alura-es-cursos/challenge1-data-science/refs/heads/main/base-de-dados-challenge-1/loja_3.csv\"\n",
        "url4 = \"https://raw.githubusercontent.com/alura-es-cursos/challenge1-data-science/refs/heads/main/base-de-dados-challenge-1/loja_4.csv\"\n",
        "\n",
        "loja = pd.read_csv(url)\n",
        "loja2 = pd.read_csv(url2)\n",
        "loja3 = pd.read_csv(url3)\n",
        "loja4 = pd.read_csv(url4)\n",
        "\n",
        "loja4.head()"
      ]
    },
    {
      "cell_type": "markdown",
      "source": [
        "#1. Análise do faturamento\n"
      ],
      "metadata": {
        "id": "X62IW3KFUIYm"
      }
    },
    {
      "cell_type": "code",
      "source": [
        "preços_loja = [219.08, 256.35, 279.51, 1009.99, 446.99]\n",
        "faturamento_loja = sum(preços_loja)\n",
        "print('Faturamento Loja:', faturamento_loja)\n",
        "preços_loja2 = [378.20, 102.37, 591.13, 1208.24, 530.41]\n",
        "faturamento_loja2 = sum(preços_loja2)\n",
        "print('Faturamento Loja2:',faturamento_loja2)\n",
        "preços_loja3 = [1713.50, 386.81, 404.62, 78.40, 694.76]\n",
        "faturamento_loja3 = sum(preços_loja3)\n",
        "print('Faturamento Loja3:',faturamento_loja3)\n",
        "preços_loja4 = [1446.46, 631.70, 31.54, 76.93, 185.14]\n",
        "faturamento_loja4 = sum(preços_loja4)\n",
        "print('Faturamento Loja4:',faturamento_loja4)"
      ],
      "metadata": {
        "id": "xykobSftV64I",
        "colab": {
          "base_uri": "https://localhost:8080/"
        },
        "outputId": "24b0c502-751e-4333-f9fe-f09eadf00b3f"
      },
      "execution_count": 14,
      "outputs": [
        {
          "output_type": "stream",
          "name": "stdout",
          "text": [
            "Faturamento Loja: 2211.92\n",
            "Faturamento Loja2: 2810.35\n",
            "Faturamento Loja3: 3278.09\n",
            "Faturamento Loja4: 2371.7699999999995\n"
          ]
        }
      ]
    },
    {
      "cell_type": "code",
      "source": [
        "faturamentos = [faturamento_loja, faturamento_loja2, faturamento_loja3, faturamento_loja4]\n",
        "print(faturamentos)"
      ],
      "metadata": {
        "id": "KDyr8E71V3m-",
        "colab": {
          "base_uri": "https://localhost:8080/"
        },
        "outputId": "fd6e58f2-19aa-44c9-a6d0-e6210bc3d31c"
      },
      "execution_count": 15,
      "outputs": [
        {
          "output_type": "stream",
          "name": "stdout",
          "text": [
            "[2211.92, 2810.35, 3278.09, 2371.7699999999995]\n"
          ]
        }
      ]
    },
    {
      "cell_type": "markdown",
      "source": [
        "# 2. Vendas por Categoria\n"
      ],
      "metadata": {
        "id": "2V_vcAPzWZmR"
      }
    },
    {
      "cell_type": "code",
      "source": [
        "venda_categoria_loja = [\"eletronicos\", \"moveis\", \"brinquedos\", \"eletrodomesticos\", \"moveis\"]\n",
        "venda_categoria_loja2 = [\"moveis\", \"instrumentos musicais\t\", \"moveis\", \"moveis\", \"moveis\"]\n",
        "venda_categoria_loja3 = [\"eletrodomesticos\", \"moveis\", \"instrumentos musicais\t\", \"esporte e lazer\t\", \"moveis\"]\n",
        "venda_categoria_loja4 = [\"eletrodomesticos\", \"moveis\", \"esporte e lazer\t\", \"livros\", \"eletronicos\"]"
      ],
      "metadata": {
        "id": "A34YupIuYhfF"
      },
      "execution_count": 28,
      "outputs": []
    },
    {
      "cell_type": "code",
      "source": [
        "qntd_moveis = venda_categoria_loja.count(\"moveis\")\n",
        "qntd_moveis2 = venda_categoria_loja2.count(\"moveis\")\n",
        "qntd_moveis3 = venda_categoria_loja3.count(\"moveis\")\n",
        "qntd_moveis4 = venda_categoria_loja4.count(\"moveis\")\n",
        "lista_moveis = [qntd_moveis, qntd_moveis2, qntd_moveis3, qntd_moveis4]\n",
        "print(\"moveis vendidos:\", lista_moveis)\n",
        "qntd_eletronicos = venda_categoria_loja.count(\"eletronicos\")\n",
        "qntd_eletronicos2 = venda_categoria_loja2.count(\"eletronicos\")\n",
        "qntd_eletronicos3 = venda_categoria_loja3.count(\"eletronicos\")\n",
        "qntd_eletronicos4 = venda_categoria_loja4.count(\"eletronicos\")\n",
        "lista_eletronicos = [qntd_eletronicos, qntd_eletronicos2, qntd_eletronicos3, qntd_eletronicos4]\n",
        "print(\"Eletronicos vendidos:\",lista_eletronicos)\n",
        "qntd_brinquedos = venda_categoria_loja.count(\"brinquedos\")\n",
        "qntd_brinquedos2 = venda_categoria_loja2.count(\"brinquedos\")\n",
        "qntd_brinquedos3 = venda_categoria_loja3.count(\"brinquedos\")\n",
        "qntd_brinquedos4 = venda_categoria_loja4.count(\"brinquedos\")\n",
        "lista_brinquedos = [qntd_brinquedos, qntd_brinquedos2, qntd_brinquedos3, qntd_brinquedos4]\n",
        "print(\"Brinquedos vendidos:\",lista_brinquedos)\n",
        "qntd_eletrodomesticos = venda_categoria_loja.count(\"eletrodomesticos\")\n",
        "qntd_eletrodomesticos2 = venda_categoria_loja2.count(\"eletrodomesticos\")\n",
        "qntd_eletrodomesticos3 = venda_categoria_loja3.count(\"eletrodomesticos\")\n",
        "qntd_eletrodomesticos4 = venda_categoria_loja4.count(\"eletrodomesticos\")\n",
        "lista_eletrodomesticos = [qntd_eletrodomesticos, qntd_eletrodomesticos2, qntd_eletrodomesticos3, qntd_eletrodomesticos4]\n",
        "print(\"Eletrodomesticos vendidos:\",lista_eletrodomesticos)\n",
        "qntd_instrumentos_musicais = venda_categoria_loja.count(\"instrumentos musicais\t\")\n",
        "qntd_instrumentos_musicais2 = venda_categoria_loja2.count(\"instrumentos musicais\t\")\n",
        "qntd_instrumentos_musicais3 = venda_categoria_loja3.count(\"instrumentos musicais\t\")\n",
        "qntd_instrumentos_musicais4 = venda_categoria_loja4.count(\"instrumentos musicais\t\")\n",
        "lista_instrumentos_musicais = [qntd_instrumentos_musicais, qntd_instrumentos_musicais2, qntd_instrumentos_musicais3, qntd_instrumentos_musicais4]\n",
        "print(\"Instrumentos musicais vendidos:\",lista_instrumentos_musicais)\n",
        "qntd_esporte_e_lazer = venda_categoria_loja.count(\"esporte e lazer\t\")\n",
        "qntd_esporte_e_lazer2 = venda_categoria_loja2.count(\"esporte e lazer\t\")\n",
        "qntd_esporte_e_lazer3 = venda_categoria_loja3.count(\"esporte e lazer\t\")\n",
        "qntd_esporte_e_lazer4 = venda_categoria_loja4.count(\"esporte e lazer\t\")\n",
        "lista_esporte_e_lazer = [qntd_esporte_e_lazer, qntd_esporte_e_lazer2, qntd_esporte_e_lazer3, qntd_esporte_e_lazer4]\n",
        "print(\"Esporte e lazer vendidos:\",lista_esporte_e_lazer)\n",
        "qntd_livros = venda_categoria_loja.count(\"livros\")\n",
        "qntd_livros2 = venda_categoria_loja2.count(\"livros\")\n",
        "qntd_livros3 = venda_categoria_loja3.count(\"livros\")\n",
        "qntd_livros4 = venda_categoria_loja4.count(\"livros\")\n",
        "lista_livros = [qntd_livros, qntd_livros2, qntd_livros3, qntd_livros4]\n",
        "print(\"Livros vendidos:\",lista_livros)\n"
      ],
      "metadata": {
        "id": "yZR6cOjXYSk1",
        "colab": {
          "base_uri": "https://localhost:8080/"
        },
        "outputId": "9ec9772e-d2ea-4605-9500-8a2e9a446a55"
      },
      "execution_count": 47,
      "outputs": [
        {
          "output_type": "stream",
          "name": "stdout",
          "text": [
            "moveis vendidos: [2, 4, 2, 1]\n",
            "Eletronicos vendidos: [1, 0, 0, 1]\n",
            "Brinquedos vendidos: [1, 0, 0, 0]\n",
            "Eletrodomesticos vendidos: [1, 0, 1, 1]\n",
            "Instrumentos musicais vendidos: [0, 1, 1, 0]\n",
            "Esporte e lazer vendidos: [0, 0, 1, 1]\n",
            "Livros vendidos: [0, 0, 0, 1]\n"
          ]
        }
      ]
    },
    {
      "cell_type": "markdown",
      "source": [
        "# 3. Média de Avaliação das Lojas"
      ],
      "metadata": {
        "id": "Rq6tU_xSY3jk"
      }
    },
    {
      "cell_type": "code",
      "source": [
        "avaliação_loja = [4, 1, 1, 4, 5]\n",
        "avaliação_loja2 = [1, 3, 5, 5, 4]\n",
        "avaliação_loja3 = [4, 3, 5, 4, 1]\n",
        "avaliação_loja4 = [4, 5, 5, 3, 4]"
      ],
      "metadata": {
        "id": "bh3jjjJwY5MU"
      },
      "execution_count": 53,
      "outputs": []
    },
    {
      "cell_type": "code",
      "source": [
        "media_ava_lj = sum(avaliação_loja)/ len(avaliação_loja)\n",
        "print(media_ava_lj)\n",
        "media_ava_lj2 = sum(avaliação_loja2)/ len(avaliação_loja2)\n",
        "print(media_ava_lj2)\n",
        "media_ava_lj3 = sum(avaliação_loja3)/ len(avaliação_loja3)\n",
        "print(media_ava_lj3)\n",
        "media_ava_lj4 = sum(avaliação_loja4)/ len(avaliação_loja4)\n",
        "print(media_ava_lj4)"
      ],
      "metadata": {
        "id": "I0KkjPoTY88F",
        "colab": {
          "base_uri": "https://localhost:8080/"
        },
        "outputId": "89068181-edcc-40bd-c3a5-0baf46fb72d2"
      },
      "execution_count": 57,
      "outputs": [
        {
          "output_type": "stream",
          "name": "stdout",
          "text": [
            "3.0\n",
            "3.6\n",
            "3.4\n",
            "4.2\n"
          ]
        }
      ]
    },
    {
      "cell_type": "markdown",
      "source": [
        "# 4. Produtos Mais e Menos Vendidos"
      ],
      "metadata": {
        "id": "DmNp1KPBZCm-"
      }
    },
    {
      "cell_type": "code",
      "source": [
        "print(\"moveis vendidos:               \", lista_moveis)\n",
        "print(\"Eletronicos vendidos:          \",lista_eletronicos)\n",
        "print(\"Brinquedos vendidos:           \",lista_brinquedos)\n",
        "print(\"Eletrodomesticos vendidos:     \",lista_eletrodomesticos)\n",
        "print(\"Instrumentos musicais vendidos:\",lista_instrumentos_musicais)\n",
        "print(\"Esporte e lazer vendidos:      \",lista_esporte_e_lazer)\n",
        "print(\"Livros vendidos:               \",lista_livros)"
      ],
      "metadata": {
        "id": "qoyjqijQZHfF",
        "colab": {
          "base_uri": "https://localhost:8080/"
        },
        "outputId": "3d818c8e-9b7b-4a7d-9b5a-16558ceb0048"
      },
      "execution_count": 77,
      "outputs": [
        {
          "output_type": "stream",
          "name": "stdout",
          "text": [
            "moveis vendidos:                [2, 4, 2, 1]\n",
            "Eletronicos vendidos:           [1, 0, 0, 1]\n",
            "Brinquedos vendidos:            [1, 0, 0, 0]\n",
            "Eletrodomesticos vendidos:      [1, 0, 1, 1]\n",
            "Instrumentos musicais vendidos: [0, 1, 1, 0]\n",
            "Esporte e lazer vendidos:       [0, 0, 1, 1]\n",
            "Livros vendidos:                [0, 0, 0, 1]\n"
          ]
        }
      ]
    },
    {
      "cell_type": "code",
      "source": [
        "mais_loja = \"moveis\"\n",
        "menos_loja= \"livros, instrumentos musicais, esporte e lazer\"\n",
        "mais_loja2 = \"moveis\"\n",
        "menos_loja2 = \"eletronicos, brinquedos, eletrodomesticos, esporte e lazer, livros\"\n",
        "mais_loja3 = \"moveis\"\n",
        "menos_loja3 = \"eletronicos, brinquedos, livros\"\n",
        "mais_loja4 = \"moveis, eletronicos, eletrodomesticos, esporte e lazer, livros\"\n",
        "menos_loja4 = \"brinquedos, instrumentos musicais, \""
      ],
      "metadata": {
        "id": "0Sw3sd4IZIGW"
      },
      "execution_count": 78,
      "outputs": []
    },
    {
      "cell_type": "markdown",
      "source": [
        "# 5. Frete Médio por Loja\n"
      ],
      "metadata": {
        "id": "Fl0cGi3bZKqU"
      }
    },
    {
      "cell_type": "code",
      "source": [
        "frete_loja  = [9.249790, 11.234305, 21.262681, 54.667344, 26.964689]\n",
        "frete_loja2 = [20.421138, 3.035334, 31.759020, 61.919584, 25.827176]\n",
        "frete_loja3 = [88.823159, 18.180908, 23.197592, 4.463341, 34.578319]\n",
        "frete_loja4 = [74.604083, 33.919251, 0.000000, 1.680730, 7.442587]\n",
        "media_fr_lj = sum(frete_loja) / len(frete_loja)\n",
        "print(media_fr_lj)\n",
        "media_fr_lj2 = sum(frete_loja2) / len(frete_loja2)\n",
        "print(media_fr_lj2)\n",
        "media_fr_lj3 = sum(frete_loja3) / len(frete_loja3)\n",
        "print(media_fr_lj3)\n",
        "media_fr_lj4 = sum(frete_loja4) / len(frete_loja4)\n",
        "print(media_fr_lj4)"
      ],
      "metadata": {
        "id": "S2JeaCykZNy9",
        "colab": {
          "base_uri": "https://localhost:8080/"
        },
        "outputId": "b6db1ad3-faf4-4e41-fc3e-f0242ba81561"
      },
      "execution_count": 84,
      "outputs": [
        {
          "output_type": "stream",
          "name": "stdout",
          "text": [
            "24.675761799999997\n",
            "28.5924504\n",
            "33.848663800000004\n",
            "23.5293302\n"
          ]
        }
      ]
    },
    {
      "cell_type": "code",
      "source": [
        "lista_media_fretes = [media_fr_lj, media_fr_lj2, media_fr_lj3, media_fr_lj4]\n",
        "print(lista_media_fretes)"
      ],
      "metadata": {
        "id": "0tSdCie9ZQlt",
        "colab": {
          "base_uri": "https://localhost:8080/"
        },
        "outputId": "233ecd5f-3475-4faf-c7d9-96896258c393"
      },
      "execution_count": 86,
      "outputs": [
        {
          "output_type": "stream",
          "name": "stdout",
          "text": [
            "[24.675761799999997, 28.5924504, 33.848663800000004, 23.5293302]\n"
          ]
        }
      ]
    },
    {
      "cell_type": "code",
      "source": [
        "import matplotlib.pyplot as plt\n",
        "lojas = [\"Loja 1\", \"Loja 2\", \"Loja 3\", \"Loja 4\"]\n",
        "faturamento = [faturamento_loja, faturamento_loja2, faturamento_loja3, faturamento_loja4]\n",
        "cores = [\"red\", \"green\", \"blue\", \"yellow\"]\n",
        "plt.pie(faturamento, labels = lojas, colors = cores, startangle=90, shadow = True, explode = (0.2, 0, 0, 0), autopct = \"%1.1f%%\")\n"
      ],
      "metadata": {
        "colab": {
          "base_uri": "https://localhost:8080/",
          "height": 625
        },
        "id": "3CI-_kYhm6iW",
        "outputId": "b1050d79-6f5e-416e-b1ba-65214c97a4a4"
      },
      "execution_count": 137,
      "outputs": [
        {
          "output_type": "execute_result",
          "data": {
            "text/plain": [
              "([<matplotlib.patches.Wedge at 0x79effdc6ee50>,\n",
              "  <matplotlib.patches.Wedge at 0x79effe05d810>,\n",
              "  <matplotlib.patches.Wedge at 0x79effdf88610>,\n",
              "  <matplotlib.patches.Wedge at 0x79effdff17d0>],\n",
              " [Text(-0.7879118932217518, 1.034018785380476, 'Loja 1'),\n",
              "  Text(-0.9327056858479336, -0.5831467256076603, 'Loja 2'),\n",
              "  Text(0.7737928385785091, -0.7818213625660362, 'Loja 3'),\n",
              "  Text(0.7071117733636597, 0.8426107879504632, 'Loja 4')],\n",
              " [Text(-0.4848688573672319, 0.6363192525418314, '20.7%'),\n",
              "  Text(-0.5087485559170546, -0.3180800321496329, '26.3%'),\n",
              "  Text(0.4220688210428231, -0.4264480159451106, '30.7%'),\n",
              "  Text(0.3856973309256326, 0.4596058843366162, '22.2%')])"
            ]
          },
          "metadata": {},
          "execution_count": 137
        },
        {
          "output_type": "display_data",
          "data": {
            "text/plain": [
              "<Figure size 640x480 with 1 Axes>"
            ],
            "image/png": "[encoded data removed]"
          },
          "metadata": {}
        }
      ]
    },
    {
      "cell_type": "code",
      "source": [
        "lojas = [\"Loja 1\", \"Loja 2\", \"Loja 3\", \"Loja 4\"]\n",
        "frete_medio = [media_fr_lj, media_fr_lj2, media_fr_lj3, media_fr_lj4]\n",
        "plt.bar(lojas, frete_medio)\n",
        "plt.title('Frete médio das lojas')\n",
        "plt.xlabel('Lojas')\n",
        "plt.ylabel('Frete Médio')\n",
        "plt.show()"
      ],
      "metadata": {
        "colab": {
          "base_uri": "https://localhost:8080/",
          "height": 472
        },
        "id": "YpEHRgHY0D-t",
        "outputId": "e70b98fa-5793-41cc-c77b-01c4f89e1e90"
      },
      "execution_count": 141,
      "outputs": [
        {
          "output_type": "display_data",
          "data": {
            "text/plain": [
              "<Figure size 640x480 with 1 Axes>"
            ],
            "image/png": "[encoded data removed]"
          },
          "metadata": {}
        }
      ]
    },
    {
      "cell_type": "code",
      "source": [
        "lista_media_av = [media_ava_lj, media_ava_lj2, media_ava_lj3, media_ava_lj4]\n",
        "lojas = [\"Loja 1\", \"Loja 2\", \"Loja 3\", \"Loja 4\"]\n",
        "plt.plot(lojas, lista_media_av)\n",
        "plt.title('Média de avaliação das lojas')\n",
        "plt.xlabel('Lojas')\n",
        "plt.ylabel('Média de avaliação')\n",
        "plt.show()"
      ],
      "metadata": {
        "colab": {
          "base_uri": "https://localhost:8080/",
          "height": 472
        },
        "id": "4_kJ-7Sr1SKD",
        "outputId": "4d1b265b-d936-4aa2-80be-3e4dfae4a27b"
      },
      "execution_count": 145,
      "outputs": [
        {
          "output_type": "display_data",
          "data": {
            "text/plain": [
              "<Figure size 640x480 with 1 Axes>"
            ],
            "image/png": "[encoded data removed]"
          },
          "metadata": {}
        }
      ]
    },
    {
      "cell_type": "markdown",
      "source": [
        "# Relatorio conclusivo\n",
        "Iniciamos esta análise com o intuito de descobrir qual loja seria, inicialmente, a mais fraca dentre as quatro, para que pudesse ser repassada com o objetivo de iniciar um novo negócio. Após uma análise mais aprofundada, já temos uma conclusão.\n",
        "\n",
        "Ao levantar o faturamento individual de cada loja, identificamos dois destaques — um positivo e outro negativo. A loja número 3 se destacou com 30% do faturamento total da rede, enquanto a loja 1, com uma diferença de 10% a menos, apresentou o pior desempenho entre todas.\n",
        "\n",
        "Durante a análise, também percebemos que a venda de móveis segue consistente, não apenas por estar presente em todas as lojas, mas também por ser, individualmente, a categoria que mais gerou vendas ao somarmos todos os setores e lojas. Em compensação, brinquedos, livros e esportes e lazer se mostraram os setores mais fracos, com vendas pontuais em lojas isoladas, o que não representa um bom desempenho para a rede como um todo.\n",
        "\n",
        "Focando novamente nas lojas de forma integral, notamos que as avaliações dos clientes da loja 1 continuam liderando negativamente, sendo a pior avaliada da rede, com uma média de nota 3. Nesse quesito, a loja 4 lidera o ranking, o que pode indicar maior reincidência de clientes devido ao bom atendimento.\n",
        "\n",
        "Na parte dos fretes, a loja 4 se destaca com o valor mais baixo nesse segmento, enquanto a loja 3 apresenta o frete mais caro da rede.\n",
        "\n",
        "Analisando friamente todos os dados, chegamos à conclusão de que a loja 1 seria a melhor escolha para ser vendida, já que apresenta o menor faturamento e as piores avaliações — o que, consequentemente, indica uma baixa potencial na conversão e fidelização de clientes."
      ],
      "metadata": {
        "id": "o_z_2AVkOiyZ"
      }
    }
  ]
}